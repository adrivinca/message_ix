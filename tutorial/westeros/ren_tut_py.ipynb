{
 "cells": [
  {
   "cell_type": "code",
   "execution_count": null,
   "metadata": {
    "collapsed": true
   },
   "outputs": [],
   "source": [
    "import pandas as pd\n",
    "import ixmp as ix\n",
    "import message_ix\n",
    "\n",
    "from message_ix.utils import make_df\n",
    "\n",
    "%matplotlib inline"
   ]
  },
  {
   "cell_type": "code",
   "execution_count": null,
   "metadata": {},
   "outputs": [],
   "source": [
    "mp = ix.Platform(dbtype='HSQLDB')"
   ]
  },
  {
   "cell_type": "code",
   "execution_count": null,
   "metadata": {
    "collapsed": true
   },
   "outputs": [],
   "source": [
    "base = message_ix.Scenario(mp, model='Westeros Electrified', \n",
    "                               scen='baseline')"
   ]
  },
  {
   "cell_type": "code",
   "execution_count": null,
   "metadata": {
    "collapsed": true
   },
   "outputs": [],
   "source": [
    "model = 'Westeros Electrified'\n",
    "scen = base.clone(model, 'renewables','testing new formulation', keep_sol=False)\n",
    "scen.check_out()"
   ]
  },
  {
   "cell_type": "code",
   "execution_count": null,
   "metadata": {
    "collapsed": true
   },
   "outputs": [],
   "source": [
    "# re-define useful elements\n",
    "country = 'Westeros'\n",
    "model_horizon = [700, 710, 720]\n",
    "act_years = [690, 700, 710, 720, 700, 710, 720, 710, 720, 720]\n",
    "vintage_years = [690, 690, 690, 690, 700, 700, 700, 710, 710, 720]"
   ]
  },
  {
   "cell_type": "markdown",
   "metadata": {},
   "source": [
    "### add sets"
   ]
  },
  {
   "cell_type": "code",
   "execution_count": null,
   "metadata": {
    "collapsed": true
   },
   "outputs": [],
   "source": [
    "scen.init_set('map_rating',['node','technology','commodity','level','rating','year'])\n",
    "scen.init_set('map_ren_grade',['node','commodity','grade','year'])"
   ]
  },
  {
   "cell_type": "code",
   "execution_count": null,
   "metadata": {},
   "outputs": [],
   "source": [
    "scen.init_set('year_vtg')\n",
    "scen.add_set('year_vtg',vintage_years)"
   ]
  },
  {
   "cell_type": "code",
   "execution_count": null,
   "metadata": {
    "collapsed": true
   },
   "outputs": [],
   "source": [
    "scen.add_set('grade',['g1','g2'])\n",
    "scen.add_set('rating',['r0','r0_4','r0_8','r_full'])\n",
    "scen.add_set('level','renewable')\n",
    "scen.add_set('level_renewable','renewable')\n",
    "scen.add_set('commodity','wind')"
   ]
  },
  {
   "cell_type": "code",
   "execution_count": null,
   "metadata": {
    "collapsed": true
   },
   "outputs": [],
   "source": [
    "map_ren_com = pd.DataFrame({\n",
    "        'node': country,\n",
    "        'technology' : 'wind_ppl',\n",
    "        'commodity': 'electricity', # commodity electricity?\n",
    "        'year': model_horizon,\n",
    "    })\n",
    "map_rating_coal = pd.DataFrame({\n",
    "        'node': country,\n",
    "        'technology' : 'coal_ppl',\n",
    "        'commodity': 'electricity',\n",
    "        'level' : 'final',         # level final?\n",
    "        'rating' : 'r_full',\n",
    "        'year': model_horizon,\n",
    "    })\n",
    "\n",
    "base_map_rating_wind = pd.DataFrame({\n",
    "        'node': country,\n",
    "        'technology' : 'wind_ppl',\n",
    "        'commodity': 'electricity',\n",
    "        'level' : 'final',         # level final?\n",
    "        'year': model_horizon,\n",
    "    })\n",
    "base_map_ren_grade = pd.DataFrame({\n",
    "        'node': country,\n",
    "        'commodity': 'electricity',\n",
    "        'year': model_horizon,\n",
    "    })"
   ]
  },
  {
   "cell_type": "code",
   "execution_count": null,
   "metadata": {
    "collapsed": true
   },
   "outputs": [],
   "source": [
    "# scen.add_set('map_ren_com',map_ren_com)\n",
    "scen.add_set('map_rating',map_rating_coal)\n",
    "\n",
    "map_rating_wind1 = make_df(base_map_rating_wind, rating = 'r0')\n",
    "scen.add_set('map_rating',map_rating_wind1)\n",
    "map_rating_wind2 = make_df(base_map_rating_wind, rating = 'r0_4')\n",
    "scen.add_set('map_rating',map_rating_wind2)\n",
    "map_rating_wind3 = make_df(base_map_rating_wind, rating = 'r0_8')\n",
    "scen.add_set('map_rating',map_rating_wind3)\n",
    "\n",
    "map_ren_grade1 = make_df(base_map_ren_grade, grade = 'g1')\n",
    "scen.add_set('map_ren_grade',map_ren_grade1)\n",
    "map_ren_grade2 = make_df(base_map_ren_grade, grade = 'g2')\n",
    "scen.add_set('map_ren_grade',map_ren_grade2)\n",
    "# map_ren_grade = map_ren_grade1.append(map_ren_grade2) # it screws thins up with indexes"
   ]
  },
  {
   "cell_type": "markdown",
   "metadata": {},
   "source": [
    "### add parameters"
   ]
  },
  {
   "cell_type": "code",
   "execution_count": null,
   "metadata": {},
   "outputs": [],
   "source": [
    "# define input for renewable tech with level renewable\n",
    "b = scen.par('output')\n",
    "b = b[b['technology'] == 'wind_ppl']\n",
    "b['commodity'] = 'wind'\n",
    "b['level'] = 'renewable'\n",
    "b.columns = scen.par('input').columns\n",
    "b"
   ]
  },
  {
   "cell_type": "code",
   "execution_count": null,
   "metadata": {
    "collapsed": true
   },
   "outputs": [],
   "source": [
    "scen.add_par('input',b)"
   ]
  },
  {
   "cell_type": "code",
   "execution_count": null,
   "metadata": {
    "collapsed": true
   },
   "outputs": [],
   "source": [
    "# renewable_potential(node,commodity,grade,level_renewable,year)\n",
    "base_renewable_potential = pd.DataFrame({\n",
    "        'node': country,\n",
    "        'commodity': 'wind', # or wind?\n",
    "        'level' : 'renewable',       \n",
    "        'year': model_horizon,\n",
    "    })\n",
    "renewable_potential1 = make_df(base_renewable_potential, grade = 'g1', \n",
    "                              value = 2*10**10, unit = 'MW')\n",
    "\n",
    "scen.add_par('renewable_potential',renewable_potential1)\n",
    "\n",
    "renewable_potential2 = make_df(base_renewable_potential, grade = 'g2', \n",
    "                              value = 2500*10**12, unit = 'MW')\n",
    "scen.add_par('renewable_potential',renewable_potential2)"
   ]
  },
  {
   "cell_type": "code",
   "execution_count": null,
   "metadata": {
    "collapsed": true
   },
   "outputs": [],
   "source": [
    "# renewable_capacity_factor(node,commodity,grade,level_renewable,year)\n",
    "base_ren_cap_fact = pd.DataFrame({\n",
    "        'node': country,\n",
    "        'commodity': 'wind', \n",
    "        'level' : 'renewable',       \n",
    "        'year': model_horizon,\n",
    "    })\n",
    "ren_cap_fact1 = make_df(base_ren_cap_fact, grade = 'g1', \n",
    "                              value = 1, unit = 'MW')\n",
    "\n",
    "scen.add_par('renewable_capacity_factor',ren_cap_fact1)\n",
    "\n",
    "ren_cap_fact2 = make_df(base_ren_cap_fact, grade = 'g2', \n",
    "                              value = 0.5, unit = 'MW')\n",
    "scen.add_par('renewable_capacity_factor',ren_cap_fact2)"
   ]
  },
  {
   "cell_type": "code",
   "execution_count": null,
   "metadata": {
    "collapsed": true
   },
   "outputs": [],
   "source": [
    "# reliability_factor(node,inv_tec,year,commodity,level,time,rating)\n",
    "base_reliability_factor = pd.DataFrame({\n",
    "        'node': country,\n",
    "        'year_act': model_horizon,\n",
    "        'commodity': 'electricity',\n",
    "        'level' : 'final',       \n",
    "        'time' : 'year',\n",
    "    })\n",
    "\n",
    "reliability_factor0 = make_df(base_reliability_factor, technology = 'wind_ppl',\n",
    "                              rating = 'r0', value = 0.05, unit ='-') # in South Africa example it is 0. \n",
    "# but then the technology will never be used\n",
    "scen.add_par('reliability_factor',reliability_factor0)\n",
    "reliability_factor1 = make_df(base_reliability_factor, technology = 'wind_ppl',\n",
    "                              rating = 'r0_4', value = 0.4, unit ='-')\n",
    "scen.add_par('reliability_factor',reliability_factor1)\n",
    "reliability_factor2 = make_df(base_reliability_factor, technology = 'wind_ppl',\n",
    "                              rating = 'r0_8', value = 0.8 , unit ='-')\n",
    "scen.add_par('reliability_factor',reliability_factor2)\n",
    "reliability_factor3 = make_df(base_reliability_factor, technology = 'coal_ppl',\n",
    "                              rating = 'r_full', value = 1 , unit ='-')\n",
    "scen.add_par('reliability_factor',reliability_factor3)"
   ]
  },
  {
   "cell_type": "code",
   "execution_count": null,
   "metadata": {
    "collapsed": true
   },
   "outputs": [],
   "source": [
    "# peak_load_factor(node,commodity,level,year,time)\n",
    "peak_load_factor = pd.DataFrame({\n",
    "        'node': country,\n",
    "        'commodity': 'electricity',\n",
    "        'level' : 'final',       \n",
    "        'year': model_horizon,\n",
    "        'time' : 'year',\n",
    "        'value' : 2,\n",
    "        'unit' : '-',\n",
    "    })\n",
    "scen.add_par('peak_load_factor',peak_load_factor)"
   ]
  },
  {
   "cell_type": "code",
   "execution_count": null,
   "metadata": {
    "collapsed": true
   },
   "outputs": [],
   "source": [
    "# rating_bin(node,inv_tec,year,commodity,level,time,rating) only wind? non renewables? should assign = 1 to coal?\n",
    "base_rating_bin = pd.DataFrame({\n",
    "        'node': country,\n",
    "        'technology' : 'wind_ppl',\n",
    "        'year_act': model_horizon,\n",
    "        'commodity': 'electricity',\n",
    "        'level' : 'final',        \n",
    "        'time' : 'year',\n",
    "    })\n",
    "\n",
    "rating_bin1 = make_df(base_rating_bin,  rating = 'r0', value = 0.7 , unit ='-')\n",
    "scen.add_par('rating_bin',rating_bin1)\n",
    "rating_bin2 = make_df(base_rating_bin, rating = 'r0_4', value = 0.1 , unit ='-')\n",
    "scen.add_par('rating_bin',rating_bin2)\n",
    "rating_bin3 = make_df(base_rating_bin, rating = 'r0_8', value = 0.2 , unit ='-')\n",
    "scen.add_par('rating_bin',rating_bin3)"
   ]
  },
  {
   "cell_type": "code",
   "execution_count": null,
   "metadata": {},
   "outputs": [],
   "source": [
    "# flexibility_factor(node,tec,vintage,year,mode,commodity,level,time,rating)\n",
    "base_flexibility_factor = pd.DataFrame({\n",
    "        'node_loc': country,\n",
    "        'year_vtg': vintage_years,\n",
    "        'year_act': act_years,\n",
    "        'mode' : 'standard',\n",
    "        'commodity': 'electricity',\n",
    "        'level' : 'final',       \n",
    "        'time' : 'year',\n",
    "    })\n",
    "\n",
    "flexibility_factor0 = make_df(base_flexibility_factor, technology = 'wind_ppl',\n",
    "                              rating = 'r0', value = -0.2, unit ='-') # in South Africa example it is 0. \n",
    "# but then the technology will never be used\n",
    "scen.add_par('flexibility_factor',flexibility_factor0)\n",
    "flexibility_factor1 = make_df(base_flexibility_factor, technology = 'wind_ppl',\n",
    "                              rating = 'r0_4', value = -0.35, unit ='-')\n",
    "scen.add_par('flexibility_factor',flexibility_factor1)\n",
    "flexibility_factor2 = make_df(base_flexibility_factor, technology = 'wind_ppl',\n",
    "                              rating = 'r0_8', value = -0.5 , unit ='-')\n",
    "scen.add_par('flexibility_factor',flexibility_factor2)\n",
    "flexibility_factor3 = make_df(base_flexibility_factor, technology = 'coal_ppl',\n",
    "                              rating = 'r_full', value = 0.1 , unit ='-')\n",
    "scen.add_par('flexibility_factor',flexibility_factor3)"
   ]
  },
  {
   "cell_type": "markdown",
   "metadata": {},
   "source": [
    "### define new variables and equations"
   ]
  },
  {
   "cell_type": "code",
   "execution_count": null,
   "metadata": {},
   "outputs": [],
   "source": [
    "scen.init_var('ACT_FLEX', idx_sets=['node','technology','year_vtg','year','mode','time','rating'] )\n",
    "scen.init_equ( \"OPERATING_RESERVE_CONSTRAINT\", idx_sets=['node','year','commodity','level','time'] )\n",
    "scen.init_equ('FLEXIBILITY_PROVISION', idx_sets=['node','technology','year_vtg','year','mode','time'] )\n",
    "scen.init_equ('FLEX_ACT_CAP_RELATION', idx_sets=['node','technology','year_vtg','year','time','rating'] )"
   ]
  },
  {
   "cell_type": "markdown",
   "metadata": {},
   "source": [
    "### commit and solve"
   ]
  },
  {
   "cell_type": "code",
   "execution_count": null,
   "metadata": {
    "collapsed": true
   },
   "outputs": [],
   "source": [
    "scen.commit(comment='define parameters for renewable implementation')\n",
    "scen.set_as_default()"
   ]
  },
  {
   "cell_type": "code",
   "execution_count": null,
   "metadata": {
    "collapsed": true
   },
   "outputs": [],
   "source": [
    "scen.solve('MESSAGE')"
   ]
  },
  {
   "cell_type": "code",
   "execution_count": null,
   "metadata": {},
   "outputs": [],
   "source": [
    "scen.var('OBJ')['lvl']"
   ]
  },
  {
   "cell_type": "markdown",
   "metadata": {},
   "source": [
    "### plotting"
   ]
  },
  {
   "cell_type": "code",
   "execution_count": null,
   "metadata": {
    "collapsed": true
   },
   "outputs": [],
   "source": [
    "from tools import Plots\n",
    "p = Plots(scen, country, firstyear=model_horizon[0])"
   ]
  },
  {
   "cell_type": "code",
   "execution_count": null,
   "metadata": {},
   "outputs": [],
   "source": [
    "p.plot_activity(baseyear=True, subset=['coal_ppl', 'wind_ppl'])"
   ]
  },
  {
   "cell_type": "code",
   "execution_count": null,
   "metadata": {},
   "outputs": [],
   "source": [
    "p.plot_capacity(baseyear=True, subset=['coal_ppl', 'wind_ppl'])"
   ]
  },
  {
   "cell_type": "code",
   "execution_count": null,
   "metadata": {},
   "outputs": [],
   "source": [
    "p.plot_prices(subset=['light'], baseyear=True)"
   ]
  },
  {
   "cell_type": "code",
   "execution_count": null,
   "metadata": {
    "collapsed": true
   },
   "outputs": [],
   "source": []
  },
  {
   "cell_type": "code",
   "execution_count": null,
   "metadata": {
    "collapsed": true
   },
   "outputs": [],
   "source": [
    "mp.close_db()"
   ]
  },
  {
   "cell_type": "markdown",
   "metadata": {
    "collapsed": true
   },
   "source": [
    "## "
   ]
  }
 ],
 "metadata": {
  "kernelspec": {
   "display_name": "Python 3",
   "language": "python",
   "name": "python3"
  },
  "language_info": {
   "codemirror_mode": {
    "name": "ipython",
    "version": 3
   },
   "file_extension": ".py",
   "mimetype": "text/x-python",
   "name": "python",
   "nbconvert_exporter": "python",
   "pygments_lexer": "ipython3",
   "version": "3.6.3"
  }
 },
 "nbformat": 4,
 "nbformat_minor": 2
}
