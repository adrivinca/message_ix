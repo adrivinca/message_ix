{
 "cells": [
  {
   "cell_type": "markdown",
   "metadata": {},
   "source": [
    "# Building a Simple Energy Model\n",
    "\n",
    "The goal of this tutorial is to build a simple energy model using `MESSAGEix` with minimal features that can be expanded in future tutorials. We will build the model component by component, focusing on both the **how** (code implementation) and **why** (mathematical formulation)."
   ]
  },
  {
   "cell_type": "markdown",
   "metadata": {},
   "source": [
    "# Follow Along at Home\n",
    "\n",
    "The full model documentation is available online at [https://messageix.iiasa.ac.at](https://messageix.iiasa.ac.at)\n",
    "    \n",
    "<img src='assests/doc_page.png'>"
   ]
  },
  {
   "cell_type": "markdown",
   "metadata": {},
   "source": [
    "And you can easily install `MESSAGEix` yourself and get all the tutorials:\n",
    "\n",
    "```shell\n",
    "$ conda install -c conda-forge message-ix\n",
    "$ messageix-dl # install all tutorials to your current directory\n",
    "```"
   ]
  },
  {
   "cell_type": "markdown",
   "metadata": {},
   "source": [
    "TODO, brief primer on message as optimization minimum cost, parameters, constraints, etc.\n",
    "vars are CAPS, pars are lower_case"
   ]
  },
  {
   "cell_type": "markdown",
   "metadata": {},
   "source": [
    "# A Brave New World: Westeros with Electricity!"
   ]
  },
  {
   "cell_type": "markdown",
   "metadata": {},
   "source": [
    "<table><tr><td><img src='assests/westeros.jpg' width='150'></td><td><img src='assests/base_res.png'></td></tr></table>"
   ]
  },
  {
   "cell_type": "markdown",
   "metadata": {},
   "source": [
    "## Setup\n",
    "\n",
    "First, we import all the packages we need."
   ]
  },
  {
   "cell_type": "code",
   "execution_count": 14,
   "metadata": {},
   "outputs": [],
   "source": [
    "import pandas as pd\n",
    "import ixmp as ix\n",
    "import message_ix\n",
    "\n",
    "from message_ix.utils import make_df\n",
    "\n",
    "%matplotlib inline"
   ]
  },
  {
   "cell_type": "markdown",
   "metadata": {},
   "source": [
    "The `Platform` is your connection to a database"
   ]
  },
  {
   "cell_type": "code",
   "execution_count": 2,
   "metadata": {},
   "outputs": [
    {
     "name": "stderr",
     "output_type": "stream",
     "text": [
      "INFO:root:launching ixmp.Platform with local HSQLDB database at '/home/gidden/.local/ixmp/localdb/default'\n"
     ]
    }
   ],
   "source": [
    "mp = ix.Platform(dbtype='HSQLDB')"
   ]
  },
  {
   "cell_type": "markdown",
   "metadata": {},
   "source": [
    "Once connected, we make our `Scenario` which we use to build our model."
   ]
  },
  {
   "cell_type": "code",
   "execution_count": 3,
   "metadata": {},
   "outputs": [],
   "source": [
    "scenario = message_ix.Scenario(mp, model='Westeros Electrified', scen='baseline', version='new')"
   ]
  },
  {
   "cell_type": "markdown",
   "metadata": {},
   "source": [
    "## Model Structure\n",
    "\n",
    "We start by defining basic characteristics of the model, including time, space, and the energy system structure."
   ]
  },
  {
   "cell_type": "markdown",
   "metadata": {},
   "source": [
    "The model horizon will span 3 decades. Let's assume that we're far in the future after the events of A Song of Ice and Fire (~300 years after Aegon the conqueror).\n",
    "\n",
    "| Math Notation | Model Meaning|\n",
    "|---------------|--------------|\n",
    "| $y \\in Y$     | year         |"
   ]
  },
  {
   "cell_type": "code",
   "execution_count": 7,
   "metadata": {},
   "outputs": [],
   "source": [
    "horizon = [700, 710, 720]\n",
    "scenario.add_horizon({'year': horizon})"
   ]
  },
  {
   "cell_type": "markdown",
   "metadata": {},
   "source": [
    "Our model will have a single `node`, i.e., its spatial dimension.\n",
    "\n",
    "\n",
    "| Math Notation | Model Meaning|\n",
    "|---------------|--------------|\n",
    "| $n \\in N$     | node         |"
   ]
  },
  {
   "cell_type": "code",
   "execution_count": 5,
   "metadata": {},
   "outputs": [],
   "source": [
    "country = 'Westeros'\n",
    "scenario.add_spatial_sets({'country': country})"
   ]
  },
  {
   "cell_type": "markdown",
   "metadata": {},
   "source": [
    "And we fill in the energy system's `commodities`, `levels`, `technologies`, and `mode` (defining how certain technologies operate). \n",
    "\n",
    "\n",
    "| Math Notation | Model Meaning|\n",
    "|---------------|--------------|\n",
    "| $c \\in C$     | commodity    |\n",
    "| $l \\in L$     | level        |\n",
    "| $t \\in T$     | technology   |\n",
    "| $m \\in M$     | mode         |"
   ]
  },
  {
   "cell_type": "code",
   "execution_count": 11,
   "metadata": {},
   "outputs": [],
   "source": [
    "scenario.add_set(\"commodity\", [\"electricity\", \"light\"])\n",
    "\n",
    "scenario.add_set(\"level\", [\"secondary\", \"final\", \"useful\"])\n",
    "\n",
    "scenario.add_set(\"technology\", ['coal_ppl', 'wind_ppl', 'grid', 'bulb'])\n",
    "\n",
    "scenario.add_set(\"mode\", \"standard\")"
   ]
  },
  {
   "cell_type": "markdown",
   "metadata": {},
   "source": [
    "## Objective Function"
   ]
  },
  {
   "cell_type": "markdown",
   "metadata": {},
   "source": [
    "The objective function seeks to minimize total discounted system cost over space and time. \n",
    "\n",
    "\n",
    "\n",
    "$\\min_{n, y} \\sum_{n,y \\in Y^{M}} interestrate_{y} \\cdot COST\\_NODAL_{n,y}$\n",
    "\n",
    "\n",
    "`COST_NODAL` is comprised of a variety of system costs defined later, but let's add the interest rate parameter."
   ]
  },
  {
   "cell_type": "code",
   "execution_count": 10,
   "metadata": {},
   "outputs": [],
   "source": [
    "rate = [0.05] * len(horizon)\n",
    "unit = ['%'] * len(horizon)\n",
    "scenario.add_par(\"interestrate\", key=horizon, val=rate, unit=unit)"
   ]
  },
  {
   "cell_type": "markdown",
   "metadata": {},
   "source": [
    "## Supply and Demand (or Balancing Commodities)"
   ]
  },
  {
   "cell_type": "markdown",
   "metadata": {},
   "source": [
    "The fundamental premise of the model is to satisfy demand as cheaply as possible. We define a demand profile:"
   ]
  },
  {
   "cell_type": "code",
   "execution_count": 1,
   "metadata": {},
   "outputs": [
    {
     "ename": "NameError",
     "evalue": "name 'pd' is not defined",
     "output_type": "error",
     "traceback": [
      "\u001b[0;31m---------------------------------------------------------------------------\u001b[0m",
      "\u001b[0;31mNameError\u001b[0m                                 Traceback (most recent call last)",
      "\u001b[0;32m<ipython-input-1-10e56ac7560a>\u001b[0m in \u001b[0;36m<module>\u001b[0;34m()\u001b[0m\n\u001b[1;32m      1\u001b[0m \u001b[0mbeta\u001b[0m \u001b[0;34m=\u001b[0m \u001b[0;36m0.7\u001b[0m \u001b[0;31m# an elasticity of demand\u001b[0m\u001b[0;34m\u001b[0m\u001b[0m\n\u001b[0;32m----> 2\u001b[0;31m \u001b[0mgdp\u001b[0m \u001b[0;34m=\u001b[0m \u001b[0mpd\u001b[0m\u001b[0;34m.\u001b[0m\u001b[0mSeries\u001b[0m\u001b[0;34m(\u001b[0m\u001b[0;34m[\u001b[0m\u001b[0;36m1.\u001b[0m\u001b[0;34m,\u001b[0m \u001b[0;36m1.21631\u001b[0m\u001b[0;34m,\u001b[0m \u001b[0;36m1.4108\u001b[0m\u001b[0;34m]\u001b[0m\u001b[0;34m,\u001b[0m \u001b[0mindex\u001b[0m\u001b[0;34m=\u001b[0m\u001b[0mpd\u001b[0m\u001b[0;34m.\u001b[0m\u001b[0mIndex\u001b[0m\u001b[0;34m(\u001b[0m\u001b[0mhorizon\u001b[0m\u001b[0;34m,\u001b[0m \u001b[0mname\u001b[0m\u001b[0;34m=\u001b[0m\u001b[0;34m'Time'\u001b[0m\u001b[0;34m)\u001b[0m\u001b[0;34m)\u001b[0m\u001b[0;34m\u001b[0m\u001b[0m\n\u001b[0m\u001b[1;32m      3\u001b[0m \u001b[0mdemand_profile\u001b[0m \u001b[0;34m=\u001b[0m \u001b[0mgdp\u001b[0m \u001b[0;34m**\u001b[0m \u001b[0mbeta\u001b[0m\u001b[0;34m\u001b[0m\u001b[0m\n\u001b[1;32m      4\u001b[0m \u001b[0mdemand_profile\u001b[0m\u001b[0;34m.\u001b[0m\u001b[0mplot\u001b[0m\u001b[0;34m(\u001b[0m\u001b[0mtitle\u001b[0m\u001b[0;34m=\u001b[0m\u001b[0;34m'Demand'\u001b[0m\u001b[0;34m)\u001b[0m\u001b[0;34m\u001b[0m\u001b[0m\n",
      "\u001b[0;31mNameError\u001b[0m: name 'pd' is not defined"
     ]
    }
   ],
   "source": [
    "beta = 0.7 # an elasticity of demand\n",
    "gdp = pd.Series([1., 1.21631, 1.4108], index=pd.Index(horizon, name='Time'))\n",
    "demand_profile = gdp ** beta\n",
    "demand_profile.plot(title='Demand')"
   ]
  },
  {
   "cell_type": "markdown",
   "metadata": {},
   "source": [
    "The `COMMODITY_BALANCE` equation ensures that `input`, `output`, and `demand` are met at each `level` in the energy system\n",
    "\n",
    "$\\begin{split}\\sum_{\\substack{n^L,t,m \\\\ y^V \\leq y}} output_{n^L,t,y^V,y,m,n,c,l,h}\n",
    "     \\cdot & ACT_{n^L,t,y^V,y,m} \\\\\n",
    "- \\sum_{\\substack{n^L,t,m, \\\\ y^V \\leq y}} input_{n^L,t,y^V,y,m,n,c,l,h}\n",
    "     \\cdot & ACT_{n^L,t,m,y} \\\\\n",
    "- \\ demand_{n,c,l,y,h}\n",
    "& \\geq 0 \\quad \\forall \\ l \\in L\\end{split}$"
   ]
  },
  {
   "cell_type": "code",
   "execution_count": null,
   "metadata": {},
   "outputs": [],
   "source": []
  },
  {
   "cell_type": "code",
   "execution_count": null,
   "metadata": {},
   "outputs": [],
   "source": []
  },
  {
   "cell_type": "code",
   "execution_count": null,
   "metadata": {},
   "outputs": [],
   "source": []
  },
  {
   "cell_type": "markdown",
   "metadata": {},
   "source": [
    "## Technologies"
   ]
  },
  {
   "cell_type": "code",
   "execution_count": 24,
   "metadata": {},
   "outputs": [
    {
     "ename": "at.ac.iiasa.ixmp.exceptions.IxExceptionPyRaisable",
     "evalue": "at.ac.iiasa.ixmp.exceptions.IxException: The index set 'commodity' does not have an element 'other_electricity'!",
     "output_type": "error",
     "traceback": [
      "\u001b[0;31m---------------------------------------------------------------------------\u001b[0m",
      "\u001b[0;31mat.ac.iiasa.ixmp.exceptions.IxExceptionPyRaisable\u001b[0mTraceback (most recent call last)",
      "\u001b[0;32m<ipython-input-24-b8b5270a6262>\u001b[0m in \u001b[0;36m<module>\u001b[0;34m()\u001b[0m\n\u001b[1;32m      9\u001b[0m         \u001b[0;34m'unit'\u001b[0m\u001b[0;34m:\u001b[0m \u001b[0;34m'GWa'\u001b[0m\u001b[0;34m,\u001b[0m\u001b[0;34m\u001b[0m\u001b[0m\n\u001b[1;32m     10\u001b[0m     })\n\u001b[0;32m---> 11\u001b[0;31m \u001b[0mscenario\u001b[0m\u001b[0;34m.\u001b[0m\u001b[0madd_par\u001b[0m\u001b[0;34m(\u001b[0m\u001b[0;34m\"demand\"\u001b[0m\u001b[0;34m,\u001b[0m \u001b[0melec_demand\u001b[0m\u001b[0;34m)\u001b[0m\u001b[0;34m\u001b[0m\u001b[0m\n\u001b[0m\u001b[1;32m     12\u001b[0m \u001b[0;34m\u001b[0m\u001b[0m\n\u001b[1;32m     13\u001b[0m \u001b[0mdemand_per_year\u001b[0m \u001b[0;34m=\u001b[0m \u001b[0;36m6134.\u001b[0m \u001b[0;34m/\u001b[0m \u001b[0;36m8760\u001b[0m \u001b[0;31m# from IEA statistics\u001b[0m\u001b[0;34m\u001b[0m\u001b[0m\n",
      "\u001b[0;32m~/.local/lib/python3.5/site-packages/ixmp/core.py\u001b[0m in \u001b[0;36madd_par\u001b[0;34m(self, name, key, val, unit, comment)\u001b[0m\n\u001b[1;32m    713\u001b[0m                     jPar.addElement(to_jlist(key.ix[i], idx_names),\n\u001b[1;32m    714\u001b[0m                                     \u001b[0m_jdouble\u001b[0m\u001b[0;34m(\u001b[0m\u001b[0mkey\u001b[0m\u001b[0;34m[\u001b[0m\u001b[0;34m'value'\u001b[0m\u001b[0;34m]\u001b[0m\u001b[0;34m[\u001b[0m\u001b[0mi\u001b[0m\u001b[0;34m]\u001b[0m\u001b[0;34m)\u001b[0m\u001b[0;34m,\u001b[0m\u001b[0;34m\u001b[0m\u001b[0m\n\u001b[0;32m--> 715\u001b[0;31m                                     str(key['unit'][i]))\n\u001b[0m\u001b[1;32m    716\u001b[0m         \u001b[0;32melif\u001b[0m \u001b[0misinstance\u001b[0m\u001b[0;34m(\u001b[0m\u001b[0mkey\u001b[0m\u001b[0;34m,\u001b[0m \u001b[0mlist\u001b[0m\u001b[0;34m)\u001b[0m \u001b[0;32mand\u001b[0m \u001b[0misinstance\u001b[0m\u001b[0;34m(\u001b[0m\u001b[0mkey\u001b[0m\u001b[0;34m[\u001b[0m\u001b[0;36m0\u001b[0m\u001b[0;34m]\u001b[0m\u001b[0;34m,\u001b[0m \u001b[0mlist\u001b[0m\u001b[0;34m)\u001b[0m\u001b[0;34m:\u001b[0m\u001b[0;34m\u001b[0m\u001b[0m\n\u001b[1;32m    717\u001b[0m             \u001b[0munit\u001b[0m \u001b[0;34m=\u001b[0m \u001b[0munit\u001b[0m \u001b[0;32mor\u001b[0m \u001b[0;34m[\u001b[0m\u001b[0;34m\"???\"\u001b[0m\u001b[0;34m]\u001b[0m \u001b[0;34m*\u001b[0m \u001b[0mlen\u001b[0m\u001b[0;34m(\u001b[0m\u001b[0mkey\u001b[0m\u001b[0;34m)\u001b[0m\u001b[0;34m\u001b[0m\u001b[0m\n",
      "\u001b[0;31mat.ac.iiasa.ixmp.exceptions.IxExceptionPyRaisable\u001b[0m: at.ac.iiasa.ixmp.exceptions.IxException: The index set 'commodity' does not have an element 'other_electricity'!"
     ]
    }
   ],
   "source": [
    "demand_per_year = 55209. / 8760 # from IEA statistics\n",
    "elec_demand = pd.DataFrame({\n",
    "        'node': country,\n",
    "        'commodity': 'other_electricity',\n",
    "        'level': 'useful',\n",
    "        'year': horizon,\n",
    "        'time': 'year',\n",
    "        'value': demand_per_year * demand,\n",
    "        'unit': 'GWa',\n",
    "    })\n",
    "scenario.add_par(\"demand\", elec_demand)\n",
    "\n",
    "demand_per_year = 6134. / 8760 # from IEA statistics\n",
    "light_demand = pd.DataFrame({\n",
    "        'node': country,\n",
    "        'commodity': 'light',\n",
    "        'level': 'useful',\n",
    "        'year': horizon,\n",
    "        'time': 'year',\n",
    "        'value': demand_per_year * demand,\n",
    "        'unit': 'GWa',\n",
    "    })\n",
    "scenario.add_par(\"demand\", light_demand)"
   ]
  },
  {
   "cell_type": "markdown",
   "metadata": {
    "collapsed": true
   },
   "source": [
    "### Engineering Parameters"
   ]
  },
  {
   "cell_type": "code",
   "execution_count": null,
   "metadata": {},
   "outputs": [],
   "source": [
    "vintage_years, act_years = scenario.vintage_and_active_years()"
   ]
  },
  {
   "cell_type": "code",
   "execution_count": null,
   "metadata": {},
   "outputs": [],
   "source": [
    "base_input = {\n",
    "    'node_loc': country,\n",
    "    'year_vtg': vintage_years,\n",
    "    'year_act': act_years,\n",
    "    'mode': 'standard',\n",
    "    'node_origin': country,\n",
    "    'commodity': 'electricity',\n",
    "    'time': 'year',\n",
    "    'time_origin': 'year',\n",
    "}\n",
    "\n",
    "grid = pd.DataFrame(dict(\n",
    "        technology = 'electricity_grid',\n",
    "        level = 'secondary',\n",
    "        value = 1.0,\n",
    "        unit = '%',\n",
    "        **base_input\n",
    "        ))\n",
    "scenario.add_par(\"input\", grid)\n",
    "\n",
    "\n",
    "bulb = pd.DataFrame(dict(\n",
    "        technology = 'bulb',\n",
    "        level = 'final',\n",
    "        value = 1.0,\n",
    "        unit = '%',\n",
    "        **base_input\n",
    "        ))\n",
    "scenario.add_par(\"input\", bulb)\n",
    "\n",
    "cfl = pd.DataFrame(dict(\n",
    "        technology = 'cfl',\n",
    "        level = 'final',\n",
    "        value = 0.3, \n",
    "        unit = '%',\n",
    "        **base_input\n",
    "        ))\n",
    "scenario.add_par(\"input\", cfl)\n",
    "\n",
    "app = pd.DataFrame(dict(\n",
    "        technology = 'appliances',\n",
    "        level = 'final',\n",
    "        value = 1.0,\n",
    "        unit = '%',\n",
    "        **base_input\n",
    "        ))\n",
    "scenario.add_par(\"input\", app)"
   ]
  },
  {
   "cell_type": "code",
   "execution_count": null,
   "metadata": {},
   "outputs": [],
   "source": [
    "make_df?"
   ]
  },
  {
   "cell_type": "code",
   "execution_count": null,
   "metadata": {},
   "outputs": [],
   "source": [
    "base_output = {\n",
    "    'node_loc': country,\n",
    "    'year_vtg': vintage_years,\n",
    "    'year_act': act_years,\n",
    "    'mode': 'standard',\n",
    "    'node_dest': country,\n",
    "    'time': 'year',\n",
    "    'time_dest': 'year', \n",
    "    'unit': '%',\n",
    "}\n",
    "\n",
    "imports = make_df(base_output, technology='import', commodity='electricity', \n",
    "                  level='secondary', value=1.)\n",
    "scenario.add_par('output', imports)\n",
    "\n",
    "grid = make_df(base_output, technology='electricity_grid', commodity='electricity', \n",
    "               level='final', value=0.873)\n",
    "scenario.add_par('output', grid)\n",
    "\n",
    "bulb = make_df(base_output, technology='bulb', commodity='light', \n",
    "               level='useful', value=1.)\n",
    "scenario.add_par('output', bulb)\n",
    "\n",
    "cfl = make_df(base_output, technology='cfl', commodity='light', \n",
    "              level='useful', value=1.)\n",
    "scenario.add_par('output', cfl)\n",
    "\n",
    "app = make_df(base_output, technology='appliances', commodity='other_electricity', \n",
    "              level='useful', value=1.)\n",
    "scenario.add_par('output', app)\n",
    "\n",
    "coal = make_df(base_output, technology='coal_ppl', commodity='electricity', \n",
    "               level='secondary', value=1.)\n",
    "scenario.add_par('output', coal)\n",
    "\n",
    "gas = make_df(base_output, technology='gas_ppl', commodity='electricity', \n",
    "              level='secondary', value=1.)\n",
    "scenario.add_par('output', gas)\n",
    "\n",
    "oil = make_df(base_output, technology='oil_ppl', commodity='electricity', \n",
    "              level='secondary', value=1.)\n",
    "scenario.add_par('output', oil)\n",
    "\n",
    "bio = make_df(base_output, technology='bio_ppl', commodity='electricity', \n",
    "              level='secondary', value=1.)\n",
    "scenario.add_par('output', bio)\n",
    "\n",
    "hydro = make_df(base_output, technology='hydro_ppl', commodity='electricity', \n",
    "                level='secondary', value=1.)\n",
    "scenario.add_par('output', hydro)\n",
    "\n",
    "wind = make_df(base_output, technology='wind_ppl', commodity='electricity', \n",
    "               level='secondary', value=1.)\n",
    "scenario.add_par('output', wind)\n",
    "\n",
    "solar_pv = make_df(base_output, technology='solar_pv_ppl', commodity='electricity', \n",
    "                   level='final', value=1.)\n",
    "scenario.add_par('output', solar_pv)"
   ]
  },
  {
   "cell_type": "code",
   "execution_count": null,
   "metadata": {},
   "outputs": [],
   "source": [
    "base_technical_lifetime = {\n",
    "    'node_loc': country,\n",
    "    'year_vtg': horizon,\n",
    "    'unit': 'y',\n",
    "}\n",
    "\n",
    "lifetimes = {\n",
    "    'coal_ppl': 40,\n",
    "    'gas_ppl': 30,\n",
    "    'oil_ppl': 30,\n",
    "    'bio_ppl': 30,\n",
    "    'hydro_ppl': 60,\n",
    "    'wind_ppl': 20,\n",
    "    'solar_pv_ppl': 20,\n",
    "    'bulb': 1,\n",
    "    'cfl': 10,\n",
    "}\n",
    "\n",
    "for tec, val in lifetimes.items():\n",
    "    df = make_df(base_technical_lifetime, technology=tec, value=val)\n",
    "    scenario.add_par('technical_lifetime', df)"
   ]
  },
  {
   "cell_type": "code",
   "execution_count": null,
   "metadata": {},
   "outputs": [],
   "source": [
    "base_capacity_factor = {\n",
    "    'node_loc': country,\n",
    "    'year_vtg': vintage_years,\n",
    "    'year_act': act_years,\n",
    "    'time': 'year',\n",
    "    'unit': '%',\n",
    "}\n",
    "\n",
    "capacity_factor = {\n",
    "    'coal_ppl': 0.85,\n",
    "    'gas_ppl': 0.75,\n",
    "    'oil_ppl': 0.75,\n",
    "    'bio_ppl': 0.75,\n",
    "    'hydro_ppl': 0.5,\n",
    "    'wind_ppl': 0.2,\n",
    "    'solar_pv_ppl': 0.15,\n",
    "    'bulb': 0.1, \n",
    "    'cfl':  0.1, \n",
    "}\n",
    "\n",
    "for tec, val in capacity_factor.items():\n",
    "    df = make_df(base_capacity_factor, technology=tec, value=val)\n",
    "    scenario.add_par('capacity_factor', df)"
   ]
  },
  {
   "cell_type": "markdown",
   "metadata": {},
   "source": [
    "### Technoeconomic Parameters"
   ]
  },
  {
   "cell_type": "code",
   "execution_count": null,
   "metadata": {},
   "outputs": [],
   "source": [
    "base_inv_cost = {\n",
    "    'node_loc': country,\n",
    "    'year_vtg': horizon,\n",
    "    'unit': 'USD/GWa',\n",
    "}\n",
    "\n",
    "# in $ / kW\n",
    "costs = {\n",
    "    'coal_ppl': 1500,\n",
    "    'gas_ppl':  870,\n",
    "    'oil_ppl':  950,\n",
    "    'hydro_ppl': 3000,\n",
    "    'bio_ppl':  1600,\n",
    "    'wind_ppl': 1100,\n",
    "    'solar_pv_ppl': 4000,\n",
    "    'bulb': 5,\n",
    "    'cfl':  900, \n",
    "}\n",
    "\n",
    "for tec, val in costs.items():\n",
    "    df = make_df(base_inv_cost, technology=tec, value=val * 1e6)\n",
    "    scenario.add_par('inv_cost', df)"
   ]
  },
  {
   "cell_type": "code",
   "execution_count": null,
   "metadata": {},
   "outputs": [],
   "source": [
    "base_fix_cost = {\n",
    "    'node_loc': country,\n",
    "    'year_vtg': vintage_years,\n",
    "    'year_act': act_years,\n",
    "    'unit': 'USD/GWa',\n",
    "}\n",
    "\n",
    "# in $ / kW\n",
    "costs = {\n",
    "    'coal_ppl': 40,\n",
    "    'gas_ppl':  25,\n",
    "    'oil_ppl':  25,\n",
    "    'hydro_ppl': 60,\n",
    "    'bio_ppl':  30,\n",
    "    'wind_ppl': 40,\n",
    "    'solar_pv_ppl': 25,\n",
    "}\n",
    "\n",
    "for tec, val in costs.items():\n",
    "    df = make_df(base_fix_cost, technology=tec, value=val * 1e6)\n",
    "    scenario.add_par('fix_cost', df)"
   ]
  },
  {
   "cell_type": "code",
   "execution_count": null,
   "metadata": {},
   "outputs": [],
   "source": [
    "base_var_cost = {\n",
    "    'node_loc': country,\n",
    "    'year_vtg': vintage_years,\n",
    "    'year_act': act_years,\n",
    "    'mode': 'standard',\n",
    "    'time': 'year',\n",
    "    'unit': 'USD/GWa',\n",
    "}\n",
    "\n",
    "# in $ / MWh\n",
    "costs = {\n",
    "    'coal_ppl': 24.4,\n",
    "    'gas_ppl':  42.4,\n",
    "    'oil_ppl':  77.8,\n",
    "    'bio_ppl':  48.2,\n",
    "    'electricity_grid': 47.8,\n",
    "}\n",
    "\n",
    "for tec, val in costs.items():\n",
    "    df = make_df(base_var_cost, technology=tec, value=val * 8760. * 1e3)\n",
    "    scenario.add_par('var_cost', df)"
   ]
  },
  {
   "cell_type": "markdown",
   "metadata": {},
   "source": [
    "## Dynamic Behavior Parameters"
   ]
  },
  {
   "cell_type": "code",
   "execution_count": null,
   "metadata": {},
   "outputs": [],
   "source": [
    "base_growth = {\n",
    "    'node_loc': country,\n",
    "    'year_act': horizon[1:],\n",
    "    'value': 0.05,\n",
    "    'time': 'year',\n",
    "    'unit': '%',\n",
    "}\n",
    "\n",
    "growth_technologies = [\n",
    "    \"coal_ppl\", \n",
    "    \"gas_ppl\", \n",
    "    \"oil_ppl\", \n",
    "    \"bio_ppl\", \n",
    "    \"hydro_ppl\",\n",
    "    \"wind_ppl\", \n",
    "    \"solar_pv_ppl\", \n",
    "    \"cfl\",\n",
    "    \"bulb\",\n",
    "]\n",
    "\n",
    "for tec in growth_technologies:\n",
    "    df = make_df(base_growth, technology=tec)\n",
    "    scenario.add_par('growth_activity_up', df)"
   ]
  },
  {
   "cell_type": "code",
   "execution_count": null,
   "metadata": {},
   "outputs": [],
   "source": [
    "base_initial = {\n",
    "    'node_loc': country,\n",
    "    'year_act': horizon[1:],\n",
    "    'time': 'year',\n",
    "    'unit': '%',\n",
    "}\n",
    "\n",
    "for tec in lights:\n",
    "    df = make_df(base_initial, technology=tec, value=0.01 * light_demand['value'].loc[horizon[1:]])\n",
    "    scenario.add_par('initial_activity_up', df)"
   ]
  },
  {
   "cell_type": "code",
   "execution_count": null,
   "metadata": {},
   "outputs": [],
   "source": [
    "base_activity = {\n",
    "    'node_loc': country,\n",
    "    'year_act': [2010],\n",
    "    'mode': 'standard',\n",
    "    'time': 'year',\n",
    "    'unit': 'GWa',\n",
    "}\n",
    "\n",
    "# in GWh - from IEA Electricity Output\n",
    "activity = {\n",
    "    'coal_ppl': 7184,\n",
    "    'gas_ppl':  14346,\n",
    "    'oil_ppl':  1275,\n",
    "    'hydro_ppl': 38406,\n",
    "    'bio_ppl':  4554,\n",
    "    'wind_ppl': 2064,\n",
    "    'solar_pv_ppl': 89,\n",
    "    'import': 2340,\n",
    "    'cfl': 0,\n",
    "}\n",
    "\n",
    "for tec, val in activity.items():\n",
    "    df = make_df(base_activity, technology=tec, value=val / 8760.)\n",
    "    scenario.add_par('bound_activity_up', df)\n",
    "    scenario.add_par('bound_activity_lo', df)"
   ]
  },
  {
   "cell_type": "code",
   "execution_count": null,
   "metadata": {},
   "outputs": [],
   "source": [
    "base_capacity = {\n",
    "    'node_loc': country,\n",
    "    'year_vtg': [2010],\n",
    "    'unit': 'GWa',\n",
    "}\n",
    "\n",
    "cf = pd.Series(capacity_factor)\n",
    "act = pd.Series(activity)\n",
    "capacity = (act / 8760 / cf).dropna().to_dict()\n",
    "\n",
    "for tec, val in capacity.items():\n",
    "    df = make_df(base_capacity, technology=tec, value=val)\n",
    "    scenario.add_par('bound_new_capacity_up', df)"
   ]
  },
  {
   "cell_type": "code",
   "execution_count": null,
   "metadata": {},
   "outputs": [],
   "source": [
    "base_activity = {\n",
    "    'node_loc': country,\n",
    "    'year_act': horizon[1:],\n",
    "    'mode': 'standard',\n",
    "    'time': 'year',\n",
    "    'unit': 'GWa',\n",
    "}\n",
    "\n",
    "# in GWh - base value from IEA Electricity Output\n",
    "keep_activity = {\n",
    "    'hydro_ppl': 38406,\n",
    "    'bio_ppl':  4554,\n",
    "    'import': 2340,\n",
    "}\n",
    "\n",
    "for tec, val in keep_activity.items():\n",
    "    df = make_df(base_activity, technology=tec, value=val / 8760.)\n",
    "    scenario.add_par('bound_activity_up', df)"
   ]
  },
  {
   "cell_type": "markdown",
   "metadata": {},
   "source": [
    "## Emissions"
   ]
  },
  {
   "cell_type": "code",
   "execution_count": null,
   "metadata": {},
   "outputs": [],
   "source": [
    "scenario.add_set(\"emission\", \"CO2\")\n",
    "scenario.add_cat('emission', 'GHGs', 'CO2')"
   ]
  },
  {
   "cell_type": "code",
   "execution_count": null,
   "metadata": {},
   "outputs": [],
   "source": [
    "base_emissions = {\n",
    "    'node_loc': country,\n",
    "    'year_vtg': vintage_years,\n",
    "    'year_act': act_years,\n",
    "    'mode': 'standard',\n",
    "    'unit': 'kg/kWa', # actually is tCO2/GWa\n",
    "}\n",
    "\n",
    "# units: tCO2/MWh\n",
    "emissions = {\n",
    "    'coal_ppl': ('CO2', 0.854),\n",
    "    'gas_ppl':  ('CO2', 0.339),\n",
    "    'oil_ppl':  ('CO2', 0.57),\n",
    "}\n",
    "\n",
    "for tec, (species, val) in emissions.items():\n",
    "    df = make_df(base_emissions, technology=tec, emission=species, value=val * 8760. * 1000)\n",
    "    scenario.add_par('emission_factor', df)"
   ]
  },
  {
   "cell_type": "markdown",
   "metadata": {},
   "source": [
    "## Commit the datastructure and solve the model"
   ]
  },
  {
   "cell_type": "code",
   "execution_count": null,
   "metadata": {},
   "outputs": [],
   "source": [
    "comment = 'initial commit for Austria model'\n",
    "scenario.commit(comment)\n",
    "scenario.set_as_default()"
   ]
  },
  {
   "cell_type": "code",
   "execution_count": null,
   "metadata": {},
   "outputs": [],
   "source": [
    "scenario.solve('MESSAGE')"
   ]
  },
  {
   "cell_type": "code",
   "execution_count": null,
   "metadata": {},
   "outputs": [],
   "source": [
    "scenario.var('OBJ')['lvl']"
   ]
  },
  {
   "cell_type": "markdown",
   "metadata": {},
   "source": [
    "# Plotting Results"
   ]
  },
  {
   "cell_type": "code",
   "execution_count": null,
   "metadata": {},
   "outputs": [],
   "source": [
    "from tools import Plots\n",
    "p = Plots(scenario, country)"
   ]
  },
  {
   "cell_type": "code",
   "execution_count": null,
   "metadata": {},
   "outputs": [],
   "source": [
    "p.plot_new_capacity(baseyear=True, subset=plants)"
   ]
  },
  {
   "cell_type": "code",
   "execution_count": null,
   "metadata": {
    "scrolled": true
   },
   "outputs": [],
   "source": [
    "p.plot_new_capacity(baseyear=True, subset=lights)"
   ]
  },
  {
   "cell_type": "code",
   "execution_count": null,
   "metadata": {},
   "outputs": [],
   "source": [
    "p.plot_capacity(baseyear=True, subset=plants)"
   ]
  },
  {
   "cell_type": "code",
   "execution_count": null,
   "metadata": {},
   "outputs": [],
   "source": [
    "p.plot_capacity(baseyear=True, subset=lights)"
   ]
  },
  {
   "cell_type": "code",
   "execution_count": null,
   "metadata": {},
   "outputs": [],
   "source": [
    "p.plot_demand(light_demand, elec_demand)"
   ]
  },
  {
   "cell_type": "code",
   "execution_count": null,
   "metadata": {},
   "outputs": [],
   "source": [
    "p.plot_activity(baseyear=True, subset=plants)"
   ]
  },
  {
   "cell_type": "code",
   "execution_count": null,
   "metadata": {},
   "outputs": [],
   "source": [
    "p.plot_activity(baseyear=True, subset=lights)"
   ]
  },
  {
   "cell_type": "code",
   "execution_count": null,
   "metadata": {},
   "outputs": [],
   "source": [
    "p.plot_prices(baseyear=False, subset=['light', 'other_electricity'])"
   ]
  },
  {
   "cell_type": "code",
   "execution_count": null,
   "metadata": {},
   "outputs": [],
   "source": [
    "mp.close_db()"
   ]
  },
  {
   "cell_type": "code",
   "execution_count": null,
   "metadata": {},
   "outputs": [],
   "source": []
  }
 ],
 "metadata": {
  "anaconda-cloud": {},
  "kernelspec": {
   "display_name": "Python 3",
   "language": "python",
   "name": "python3"
  },
  "language_info": {
   "codemirror_mode": {
    "name": "ipython",
    "version": 3
   },
   "file_extension": ".py",
   "mimetype": "text/x-python",
   "name": "python",
   "nbconvert_exporter": "python",
   "pygments_lexer": "ipython3",
   "version": "3.5.2"
  }
 },
 "nbformat": 4,
 "nbformat_minor": 1
}
