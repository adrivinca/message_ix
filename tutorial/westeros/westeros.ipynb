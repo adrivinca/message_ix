{
 "cells": [
  {
   "cell_type": "markdown",
   "metadata": {},
   "source": [
    "# Building a Simple Energy Model\n",
    "\n",
    "The goal of this tutorial is to build a simple energy model using `MESSAGEix` with minimal features that can be expanded in future tutorials. We will build the model component by component, focusing on both the **how** (code implementation) and **why** (mathematical formulation)."
   ]
  },
  {
   "cell_type": "markdown",
   "metadata": {},
   "source": [
    "# Follow Along at Home\n",
    "\n",
    "The full model documentation is available online at [https://messageix.iiasa.ac.at](https://messageix.iiasa.ac.at)\n",
    "    \n",
    "<img src='assests/doc_page.png'>"
   ]
  },
  {
   "cell_type": "markdown",
   "metadata": {},
   "source": [
    "And you can easily install `MESSAGEix` yourself and get all the tutorials:\n",
    "\n",
    "```shell\n",
    "$ conda install -c conda-forge message-ix\n",
    "$ messageix-dl # install all tutorials to your current directory\n",
    "```"
   ]
  },
  {
   "cell_type": "markdown",
   "metadata": {},
   "source": [
    "TODO, brief primer on message as optimization minimum cost, parameters, constraints, etc.\n",
    "vars are CAPS, pars are lower_case"
   ]
  },
  {
   "cell_type": "markdown",
   "metadata": {},
   "source": [
    "# A Brave New World: Westeros with Electricity!"
   ]
  },
  {
   "cell_type": "markdown",
   "metadata": {},
   "source": [
    "<table><tr><td><img src='assests/westeros.jpg' width='150'></td><td><img src='assests/base_res.png'></td></tr></table>"
   ]
  },
  {
   "cell_type": "markdown",
   "metadata": {},
   "source": [
    "## Setup\n",
    "\n",
    "First, we import all the packages we need."
   ]
  },
  {
   "cell_type": "code",
   "execution_count": 1,
   "metadata": {},
   "outputs": [],
   "source": [
    "import pandas as pd\n",
    "import ixmp as ix\n",
    "import message_ix\n",
    "\n",
    "from message_ix.utils import make_df\n",
    "\n",
    "%matplotlib inline"
   ]
  },
  {
   "cell_type": "markdown",
   "metadata": {},
   "source": [
    "The `Platform` is your connection to a database"
   ]
  },
  {
   "cell_type": "code",
   "execution_count": 2,
   "metadata": {},
   "outputs": [
    {
     "name": "stderr",
     "output_type": "stream",
     "text": [
      "INFO:root:launching ixmp.Platform with local HSQLDB database at '/Users/gidden/.local/ixmp/localdb/default'\n"
     ]
    }
   ],
   "source": [
    "mp = ix.Platform(dbtype='HSQLDB')"
   ]
  },
  {
   "cell_type": "markdown",
   "metadata": {},
   "source": [
    "Once connected, we make our `Scenario` which we use to build our model."
   ]
  },
  {
   "cell_type": "code",
   "execution_count": 3,
   "metadata": {},
   "outputs": [],
   "source": [
    "scenario = message_ix.Scenario(mp, model='Westeros Electrified', scen='baseline', version='new')"
   ]
  },
  {
   "cell_type": "markdown",
   "metadata": {},
   "source": [
    "## Model Structure\n",
    "\n",
    "We start by defining basic characteristics of the model, including time, space, and the energy system structure."
   ]
  },
  {
   "cell_type": "markdown",
   "metadata": {},
   "source": [
    "The model horizon will span 3 decades. Let's assume that we're far in the future after the events of A Song of Ice and Fire (which occur ~300 years after Aegon the conqueror).\n",
    "\n",
    "| Math Notation | Model Meaning                |\n",
    "|---------------|------------------------------|\n",
    "| $y \\in Y^M$   | time periods in model horizon|"
   ]
  },
  {
   "cell_type": "code",
   "execution_count": 4,
   "metadata": {},
   "outputs": [],
   "source": [
    "horizon = [700, 710, 720]\n",
    "scenario.add_horizon({'year': horizon})"
   ]
  },
  {
   "cell_type": "markdown",
   "metadata": {},
   "source": [
    "Our model will have a single `node`, i.e., its spatial dimension.\n",
    "\n",
    "\n",
    "| Math Notation | Model Meaning|\n",
    "|---------------|--------------|\n",
    "| $n \\in N$     | node         |"
   ]
  },
  {
   "cell_type": "code",
   "execution_count": 5,
   "metadata": {},
   "outputs": [],
   "source": [
    "country = 'Westeros'\n",
    "scenario.add_spatial_sets({'country': country})"
   ]
  },
  {
   "cell_type": "markdown",
   "metadata": {},
   "source": [
    "And we fill in the energy system's `commodities`, `levels`, `technologies`, and `mode` (defining how certain technologies operate). \n",
    "\n",
    "\n",
    "| Math Notation | Model Meaning|\n",
    "|---------------|--------------|\n",
    "| $c \\in C$     | commodity    |\n",
    "| $l \\in L$     | level        |\n",
    "| $t \\in T$     | technology   |\n",
    "| $m \\in M$     | mode         |"
   ]
  },
  {
   "cell_type": "code",
   "execution_count": 6,
   "metadata": {},
   "outputs": [],
   "source": [
    "scenario.add_set(\"commodity\", [\"electricity\", \"light\"])\n",
    "\n",
    "scenario.add_set(\"level\", [\"secondary\", \"final\", \"useful\"])\n",
    "\n",
    "scenario.add_set(\"technology\", ['coal_ppl', 'wind_ppl', 'grid', 'bulb'])\n",
    "\n",
    "scenario.add_set(\"mode\", \"standard\")"
   ]
  },
  {
   "cell_type": "markdown",
   "metadata": {},
   "source": [
    "## Supply and Demand (or Balancing Commodities)"
   ]
  },
  {
   "cell_type": "markdown",
   "metadata": {},
   "source": [
    "The fundamental premise of the model is to satisfy demand as cheaply as possible. We define a demand profile:"
   ]
  },
  {
   "cell_type": "code",
   "execution_count": 7,
   "metadata": {},
   "outputs": [
    {
     "data": {
      "text/plain": [
       "<matplotlib.axes._subplots.AxesSubplot at 0x12b1e5198>"
      ]
     },
     "execution_count": 7,
     "metadata": {},
     "output_type": "execute_result"
    },
    {
     "data": {
      "image/png": "[encoded data removed]",
      "text/plain": [
       "<Figure size 432x288 with 1 Axes>"
      ]
     },
     "metadata": {},
     "output_type": "display_data"
    }
   ],
   "source": [
    "beta = 0.7 # an elasticity of demand\n",
    "gdp = pd.Series([1., 1.21631, 1.4108], index=pd.Index(horizon, name='Time'))\n",
    "demand_profile = gdp ** beta\n",
    "demand_profile.plot(title='Demand')"
   ]
  },
  {
   "cell_type": "markdown",
   "metadata": {},
   "source": [
    "The `COMMODITY_BALANCE` equation ensures that `input`, `output`, and `demand` are met at each `level` in the energy system\n",
    "\n",
    "$\\begin{split}\\sum_{\\substack{n^L,t,m \\\\ y^V \\leq y}} output_{n^L,t,y^V,y,m,n,c,l}\n",
    "     \\cdot & ACT_{n^L,t,y^V,y,m} \\\\\n",
    "- \\sum_{\\substack{n^L,t,m, \\\\ y^V \\leq y}} input_{n^L,t,y^V,y,m,n,c,l}\n",
    "     \\cdot & ACT_{n^L,t,m,y} \\\\\n",
    "- \\ demand_{n,c,l,y}\n",
    "& \\geq 0 \\quad \\forall \\ l \\in L\\end{split}$"
   ]
  },
  {
   "cell_type": "markdown",
   "metadata": {},
   "source": [
    "First we establish demand. Let's assume\n",
    "\n",
    "- 40 million people in [300 AC](https://atlasoficeandfireblog.wordpress.com/2016/03/06/the-population-of-the-seven-kingdoms/)\n",
    "- similar population growth to Earth in the same time frame [(~factor of 12)](https://en.wikipedia.org/wiki/World_population_estimates)\n",
    "- similar per capita demand for lighting as a developed country today (e.g., ~6000 GWh in Austria)\n",
    "\n",
    "Then we can add the demand parameter"
   ]
  },
  {
   "cell_type": "code",
   "execution_count": 8,
   "metadata": {},
   "outputs": [],
   "source": [
    "demand_per_year = 3.8e7\n",
    "\n",
    "light_demand = pd.DataFrame({\n",
    "        'node': country,\n",
    "        'commodity': 'light',\n",
    "        'level': 'useful',\n",
    "        'year': horizon,\n",
    "        'time': 'year',\n",
    "        'value': demand_per_year * demand_profile,\n",
    "        'unit': 'GWa',\n",
    "    })\n",
    "\n",
    "scenario.add_par(\"demand\", light_demand)"
   ]
  },
  {
   "cell_type": "code",
   "execution_count": 9,
   "metadata": {},
   "outputs": [],
   "source": [
    "#TODO Hide this one\n",
    "\n",
    "vintage_years, act_years = scenario.vintage_and_active_years()\n",
    "\n",
    "base_input = {\n",
    "    'node_loc': country,\n",
    "    'year_vtg': vintage_years,\n",
    "    'year_act': act_years,\n",
    "    'mode': 'standard',\n",
    "    'node_origin': country,\n",
    "    'commodity': 'electricity',\n",
    "    'time': 'year',\n",
    "    'time_origin': 'year',\n",
    "}\n",
    "\n",
    "base_output = {\n",
    "    'node_loc': country,\n",
    "    'year_vtg': vintage_years,\n",
    "    'year_act': act_years,\n",
    "    'mode': 'standard',\n",
    "    'node_dest': country,\n",
    "    'time': 'year',\n",
    "    'time_dest': 'year', \n",
    "    'unit': '%',\n",
    "}"
   ]
  },
  {
   "cell_type": "markdown",
   "metadata": {},
   "source": [
    "Working backwards along the Reference Energy System, we can add connections for the `bulb`"
   ]
  },
  {
   "cell_type": "code",
   "execution_count": 10,
   "metadata": {},
   "outputs": [],
   "source": [
    "bulb_out = make_df(base_output, technology='bulb', commodity='light', level='useful', value=1.0)\n",
    "scenario.add_par('output', bulb_out)\n",
    "\n",
    "bulb_in = make_df(base_input, technology='bulb', commodity='electricity',  level='final', value=1.0, unit='%')\n",
    "scenario.add_par('input', bulb_in)"
   ]
  },
  {
   "cell_type": "markdown",
   "metadata": {},
   "source": [
    "Next, the `grid`, with loses of 13%"
   ]
  },
  {
   "cell_type": "code",
   "execution_count": 11,
   "metadata": {},
   "outputs": [],
   "source": [
    "grid_efficiency = 0.87\n",
    "grid_out = make_df(base_output, technology='grid', commodity='electricity', level='final', value=grid_efficiency)\n",
    "scenario.add_par('output', grid_out)\n",
    "\n",
    "grid_in = make_df(base_input, technology='grid', commodity='electricity',  level='secondary', value=1.0, unit='%')\n",
    "scenario.add_par('input', grid_in)"
   ]
  },
  {
   "cell_type": "markdown",
   "metadata": {},
   "source": [
    "And finally, our power plants which are not resource constrained in this simple model thus have no `input`"
   ]
  },
  {
   "cell_type": "code",
   "execution_count": 12,
   "metadata": {},
   "outputs": [],
   "source": [
    "coal_out = make_df(base_output, technology='coal_ppl', commodity='electricity', level='secondary', value=1.)\n",
    "scenario.add_par('output', coal_out)\n",
    "\n",
    "wind_out = make_df(base_output, technology='wind_ppl', commodity='electricity', level='secondary', value=1.)\n",
    "scenario.add_par('output', wind_out)"
   ]
  },
  {
   "cell_type": "markdown",
   "metadata": {},
   "source": [
    "## Operational Constraints and Parameters"
   ]
  },
  {
   "cell_type": "markdown",
   "metadata": {},
   "source": [
    "The model has a number of \"reality\" constraints, which relate built capacity to available power.\n",
    "\n",
    "The `CAPACITY_CONSTRAINT` \n",
    "\n",
    "$\\sum_{m} ACT_{n,t,y^V,y,m,h}\n",
    "    \\leq duration\\_time_{h} \\cdot capacity\\_factor_{n,t,y^V,y,h} \\cdot CAP_{n,t,y^V,y}\n",
    "    \\quad t \\ \\in \\ T^{INV}$\n",
    "    \n",
    "TODO: needed? asked daniel, wait for reply\n",
    "\n",
    "Operation Constraint\n",
    "\n",
    "$\\sum_{m,h} ACT_{n,t,y^V,y,m,h}\n",
    "    \\leq operation\\_factor_{n,t,y^V,y} \\cdot capacity\\_factor_{n,t,y^V,y,m,\\text{'year'}} \\cdot CAP_{n,t,y^V,y}$"
   ]
  },
  {
   "cell_type": "markdown",
   "metadata": {},
   "source": [
    "This requires us to provide capacity factors"
   ]
  },
  {
   "cell_type": "code",
   "execution_count": 13,
   "metadata": {},
   "outputs": [],
   "source": [
    "#TODO: Hide this\n",
    "base_capacity_factor = {\n",
    "    'node_loc': country,\n",
    "    'year_vtg': vintage_years,\n",
    "    'year_act': act_years,\n",
    "    'time': 'year',\n",
    "    'unit': '%',\n",
    "}"
   ]
  },
  {
   "cell_type": "code",
   "execution_count": 14,
   "metadata": {},
   "outputs": [],
   "source": [
    "capacity_factor = {\n",
    "    'coal_ppl': 0.85,\n",
    "    'wind_ppl': 0.2,\n",
    "    'bulb': 0.1, \n",
    "}\n",
    "\n",
    "for tec, val in capacity_factor.items():\n",
    "    df = make_df(base_capacity_factor, technology=tec, value=val)\n",
    "    scenario.add_par('capacity_factor', df)"
   ]
  },
  {
   "cell_type": "markdown",
   "metadata": {},
   "source": [
    "## Technological Diffusion and Contraction\n",
    "\n",
    "We know from historical precedent that energy systems can not be transformed instantaneously. Therefore, we use a family of constraints on **activity** (`ACT`) and **capacity** (`CAP`). "
   ]
  },
  {
   "cell_type": "markdown",
   "metadata": {},
   "source": [
    "$\\begin{split}\\sum_{y^V \\leq y,m} ACT_{n,t,y^V,y,m,h}\n",
    "    \\leq & ~ initial\\_activity\\_up_{n,t,y,h}\n",
    "        \\cdot \\frac{ \\Big( 1 + growth\\_activity\\_up_{n,t,y,h} \\Big)^{|y|} - 1 }\n",
    "                   { growth\\_activity\\_up_{n,t,y,h} } \\\\\n",
    "        & + \\bigg( \\sum_{y^V \\leq y-1,m} ACT_{n,t,y^V,y-1,m,h}\n",
    "                    + \\sum_{m} historical\\_activity_{n,t,y-1,m,h} \\bigg) \\\\\n",
    "        & \\hspace{2 cm} \\cdot \\Big( 1 + growth\\_activity\\_up_{n,t,y,h} \\Big)^{|y|} \\end{split}$"
   ]
  },
  {
   "cell_type": "markdown",
   "metadata": {},
   "source": [
    "This example limits the ability for technologies to **grow**. It also allows new technologies to penetrate the market based on the `initial_activity_up` paramter. For the purposes of this simple model, we simply need to provide `growth_activity_up` values, which limit the rate technologies can grow."
   ]
  },
  {
   "cell_type": "code",
   "execution_count": 15,
   "metadata": {},
   "outputs": [],
   "source": [
    "## TODO: hide this\n",
    "base_growth = {\n",
    "    'node_loc': country,\n",
    "    'year_act': horizon[1:],\n",
    "    'time': 'year',\n",
    "}"
   ]
  },
  {
   "cell_type": "code",
   "execution_count": 16,
   "metadata": {},
   "outputs": [],
   "source": [
    "growth_technologies = [\n",
    "    \"coal_ppl\", \n",
    "    \"wind_ppl\", \n",
    "    \"bulb\",\n",
    "]\n",
    "\n",
    "for tec in growth_technologies:\n",
    "    df = make_df(base_growth, technology=tec, value=0.05, unit='%') # TODO: is this actually right? should be fraction?\n",
    "    scenario.add_par('growth_activity_up', df)"
   ]
  },
  {
   "cell_type": "markdown",
   "metadata": {},
   "source": [
    "## Defining an Energy Mix"
   ]
  },
  {
   "cell_type": "markdown",
   "metadata": {},
   "source": [
    "The simplest way to model a pre-defined energy mix is to use equality constraints on activity or capacity.\n",
    "\n",
    "More elegant ways include using parameters to define `historical` values, but in this simple example, we choose a starting point for the Westerosi energy system.\n",
    "\n",
    "$\\sum_{y^V \\leq y} ACT_{n,t,y^V,y,m,h} \\geq bound\\_activity\\_lo_{n,t,y,m,h}$\n",
    "\n",
    "and\n",
    "\n",
    "$\\sum_{y^V \\leq y} ACT_{n,t,y^V,y,m,h} \\leq bound\\_activity\\_up_{n,t,m,y,h}$"
   ]
  },
  {
   "cell_type": "code",
   "execution_count": 17,
   "metadata": {},
   "outputs": [],
   "source": [
    "# TODO: hide\n",
    "\n",
    "base_activity = {\n",
    "    'node_loc': country,\n",
    "    'year_act': [horizon[0]],\n",
    "    'mode': 'standard',\n",
    "    'time': 'year',\n",
    "    'unit': 'GWa',\n",
    "}\n"
   ]
  },
  {
   "cell_type": "code",
   "execution_count": 18,
   "metadata": {},
   "outputs": [],
   "source": [
    "total_demand = demand_per_year / grid_efficiency\n",
    "\n",
    "# in GWh - from IEA Electricity Output\n",
    "activity = {\n",
    "    'coal_ppl': 0.5 * total_demand,\n",
    "    'wind_ppl': 0.5 * total_demand,\n",
    "}\n",
    "\n",
    "for tec, val in activity.items():\n",
    "    df = make_df(base_activity, technology=tec, value=val)\n",
    "    scenario.add_par('bound_activity_up', df)\n",
    "    scenario.add_par('bound_activity_lo', df)"
   ]
  },
  {
   "cell_type": "markdown",
   "metadata": {},
   "source": [
    "## Objective Function"
   ]
  },
  {
   "cell_type": "markdown",
   "metadata": {},
   "source": [
    "The objective function seeks to minimize total discounted system cost over space and time. \n",
    "\n",
    "$\\min \\sum_{n,y \\in Y^{M}} interestrate_{y} \\cdot COST\\_NODAL_{n,y}$\n",
    "\n",
    "\n",
    "Let's add the interest rate parameter."
   ]
  },
  {
   "cell_type": "code",
   "execution_count": 19,
   "metadata": {},
   "outputs": [],
   "source": [
    "rate = [0.05] * len(horizon)\n",
    "unit = ['%'] * len(horizon)\n",
    "scenario.add_par(\"interestrate\", key=horizon, val=rate, unit=unit)"
   ]
  },
  {
   "cell_type": "markdown",
   "metadata": {},
   "source": [
    "`COST_NODAL` is comprised of a variety of costs related to the use of different technologies, notably"
   ]
  },
  {
   "cell_type": "markdown",
   "metadata": {},
   "source": [
    "- Investment Costs\n",
    "\n",
    "$inv\\_cost_{n,t,y} \\cdot construction\\_time\\_factor_{n,t,y} \\cdot end\\_of\\_horizon\\_factor_{n,t,y} \\cdot CAP\\_NEW_{n,t,y}$"
   ]
  },
  {
   "cell_type": "code",
   "execution_count": 20,
   "metadata": {},
   "outputs": [],
   "source": [
    "# TODO hide this\n",
    "base_inv_cost = {\n",
    "    'node_loc': country,\n",
    "    'year_vtg': horizon,\n",
    "    'unit': 'USD/GWa',\n",
    "}"
   ]
  },
  {
   "cell_type": "code",
   "execution_count": 21,
   "metadata": {},
   "outputs": [],
   "source": [
    "# in $ / kW\n",
    "costs = {\n",
    "    'coal_ppl': 1500,\n",
    "    'wind_ppl': 1100,\n",
    "    'bulb': 5,\n",
    "}\n",
    "\n",
    "for tec, val in costs.items():\n",
    "    df = make_df(base_inv_cost, technology=tec, value=val * 1e6)\n",
    "    scenario.add_par('inv_cost', df)"
   ]
  },
  {
   "cell_type": "markdown",
   "metadata": {},
   "source": [
    "- Fixed O&M Costs\n",
    "\n",
    "$\\sum_{y^V \\leq y} \\ fix\\_cost_{n,t,y^V,y} \\cdot CAP_{n,t,y^V,y}$"
   ]
  },
  {
   "cell_type": "code",
   "execution_count": 22,
   "metadata": {},
   "outputs": [],
   "source": [
    "# TODO Hide\n",
    "base_fix_cost = {\n",
    "    'node_loc': country,\n",
    "    'year_vtg': vintage_years,\n",
    "    'year_act': act_years,\n",
    "    'unit': 'USD/GWa',\n",
    "}\n"
   ]
  },
  {
   "cell_type": "code",
   "execution_count": 23,
   "metadata": {},
   "outputs": [],
   "source": [
    "\n",
    "# in $ / kW\n",
    "costs = {\n",
    "    'coal_ppl': 40,\n",
    "    'wind_ppl': 40,\n",
    "}\n",
    "\n",
    "for tec, val in costs.items():\n",
    "    df = make_df(base_fix_cost, technology=tec, value=val * 1e6)\n",
    "    scenario.add_par('fix_cost', df)"
   ]
  },
  {
   "cell_type": "markdown",
   "metadata": {},
   "source": [
    "- Variable O&M Costs\n",
    "\n",
    "$\\sum_{\\substack{y^V \\leq y \\\\ m,h}} \\ var\\_cost_{n,t,y^V,y,m,h} \\cdot ACT_{n,t,y^V,y,m,h} $"
   ]
  },
  {
   "cell_type": "code",
   "execution_count": 24,
   "metadata": {},
   "outputs": [],
   "source": [
    "# TODO hide\n",
    "base_var_cost = {\n",
    "    'node_loc': country,\n",
    "    'year_vtg': vintage_years,\n",
    "    'year_act': act_years,\n",
    "    'mode': 'standard',\n",
    "    'time': 'year',\n",
    "    'unit': 'USD/GWa',\n",
    "}"
   ]
  },
  {
   "cell_type": "code",
   "execution_count": 25,
   "metadata": {},
   "outputs": [],
   "source": [
    "# in $ / MWh\n",
    "costs = {\n",
    "    'coal_ppl': 24.4,\n",
    "    'grid': 47.8,\n",
    "}\n",
    "\n",
    "for tec, val in costs.items():\n",
    "    df = make_df(base_var_cost, technology=tec, value=val * 8760. * 1e3)\n",
    "    scenario.add_par('var_cost', df)"
   ]
  },
  {
   "cell_type": "markdown",
   "metadata": {},
   "source": [
    "A full model will also have costs associated with\n",
    "\n",
    "- resource extraction: $\\sum_{c,g} \\ resource\\_cost_{n,c,g,y} \\cdot EXT_{n,c,g,y} $\n",
    "- emissions: $\\sum_{\\substack{\\widehat{e},\\widehat{t} \\\\ e \\in E(\\widehat{e})}}\n",
    "        emission\\_scaling_{\\widehat{e},e} \\cdot \\ emission\\_tax_{n,\\widehat{e},\\widehat{t},y}\n",
    "        \\cdot EMISS_{n,e,\\widehat{t},y}$\n",
    "- land use (emulator): $\\sum_{s} land\\_cost_{n,s,y} \\cdot LAND_{n,s,y}$\n",
    "- exceedence on \"hard\" bounds of technology expansion and contraction: $\\sum_{m,h} \\ \\Big( abs\\_cost\\_activity\\_soft\\_lo_{n,t,y,m,h} + level\\_cost\\_activity\\_soft\\_lo_{n,t,y,m,h} \\cdot\\ levelized\\_cost_{n,t,y,m,h}\\Big) \\cdot ACT\\_LO_{n,t,y,h}$"
   ]
  },
  {
   "cell_type": "markdown",
   "metadata": {
    "collapsed": true
   },
   "source": [
    "## Additional Parameters\n",
    "\n",
    "In order for the mechanics of the model to work, there are some additional parameters that need to be defined. Specifically in this case, we need to provide `technical_lifetime`s for our various energy technologies."
   ]
  },
  {
   "cell_type": "code",
   "execution_count": 26,
   "metadata": {},
   "outputs": [],
   "source": [
    "base_technical_lifetime = {\n",
    "    'node_loc': country,\n",
    "    'year_vtg': horizon,\n",
    "    'unit': 'y',\n",
    "}"
   ]
  },
  {
   "cell_type": "code",
   "execution_count": 27,
   "metadata": {},
   "outputs": [],
   "source": [
    "lifetimes = {\n",
    "    'coal_ppl': 20,\n",
    "    'wind_ppl': 10,\n",
    "    'bulb': 1,\n",
    "}\n",
    "\n",
    "for tec, val in lifetimes.items():\n",
    "    df = make_df(base_technical_lifetime, technology=tec, value=val)\n",
    "    scenario.add_par('technical_lifetime', df)"
   ]
  },
  {
   "cell_type": "markdown",
   "metadata": {},
   "source": [
    "## Commit the datastructure and solve the model"
   ]
  },
  {
   "cell_type": "code",
   "execution_count": 28,
   "metadata": {},
   "outputs": [],
   "source": [
    "scenario.commit(comment='basic model of Westerosi electrification')\n",
    "scenario.set_as_default()"
   ]
  },
  {
   "cell_type": "code",
   "execution_count": 29,
   "metadata": {},
   "outputs": [],
   "source": [
    "scenario.solve('MESSAGE')"
   ]
  },
  {
   "cell_type": "code",
   "execution_count": 30,
   "metadata": {},
   "outputs": [
    {
     "data": {
      "text/plain": [
       "7.383997797797724e+17"
      ]
     },
     "execution_count": 30,
     "metadata": {},
     "output_type": "execute_result"
    }
   ],
   "source": [
    "scenario.var('OBJ')['lvl']"
   ]
  },
  {
   "cell_type": "markdown",
   "metadata": {},
   "source": [
    "# Plotting Results"
   ]
  },
  {
   "cell_type": "code",
   "execution_count": 31,
   "metadata": {},
   "outputs": [],
   "source": [
    "from tools import Plots\n",
    "p = Plots(scenario, country)"
   ]
  },
  {
   "cell_type": "code",
   "execution_count": 32,
   "metadata": {},
   "outputs": [],
   "source": [
    "plants = ['coal_ppl', 'wind_ppl']\n",
    "lights = ['bulb']"
   ]
  },
  {
   "cell_type": "code",
   "execution_count": 33,
   "metadata": {},
   "outputs": [
    {
     "data": {
      "image/png": "[encoded data removed]",
      "text/plain": [
       "<Figure size 432x288 with 1 Axes>"
      ]
     },
     "metadata": {},
     "output_type": "display_data"
    }
   ],
   "source": [
    "p.plot_new_capacity(baseyear=True, subset=plants)"
   ]
  },
  {
   "cell_type": "code",
   "execution_count": 34,
   "metadata": {},
   "outputs": [
    {
     "data": {
      "image/png": "[encoded data removed]",
      "text/plain": [
       "<Figure size 432x288 with 1 Axes>"
      ]
     },
     "metadata": {},
     "output_type": "display_data"
    }
   ],
   "source": [
    "p.plot_capacity(baseyear=True, subset=plants)"
   ]
  },
  {
   "cell_type": "code",
   "execution_count": 35,
   "metadata": {},
   "outputs": [
    {
     "data": {
      "image/png": "[encoded data removed]",
      "text/plain": [
       "<Figure size 432x288 with 1 Axes>"
      ]
     },
     "metadata": {},
     "output_type": "display_data"
    }
   ],
   "source": [
    "p.plot_activity(baseyear=True, subset=plants)"
   ]
  },
  {
   "cell_type": "code",
   "execution_count": 36,
   "metadata": {},
   "outputs": [
    {
     "data": {
      "image/png": "[encoded data removed]",
      "text/plain": [
       "<Figure size 432x288 with 1 Axes>"
      ]
     },
     "metadata": {},
     "output_type": "display_data"
    }
   ],
   "source": [
    "p.plot_prices(subset=['light'], baseyear=True)"
   ]
  },
  {
   "cell_type": "code",
   "execution_count": 37,
   "metadata": {},
   "outputs": [],
   "source": [
    "mp.close_db()"
   ]
  },
  {
   "cell_type": "code",
   "execution_count": null,
   "metadata": {},
   "outputs": [],
   "source": []
  }
 ],
 "metadata": {
  "anaconda-cloud": {},
  "celltoolbar": "Slideshow",
  "kernelspec": {
   "display_name": "Python [default]",
   "language": "python",
   "name": "python3"
  },
  "language_info": {
   "codemirror_mode": {
    "name": "ipython",
    "version": 3
   },
   "file_extension": ".py",
   "mimetype": "text/x-python",
   "name": "python",
   "nbconvert_exporter": "python",
   "pygments_lexer": "ipython3",
   "version": "3.6.5"
  }
 },
 "nbformat": 4,
 "nbformat_minor": 1
}
